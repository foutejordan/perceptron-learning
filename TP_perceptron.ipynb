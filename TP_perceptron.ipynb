{
  "cells": [
    {
      "cell_type": "code",
      "execution_count": null,
      "metadata": {
        "id": "tm4x1UISJUqn"
      },
      "outputs": [],
      "source": []
    },
    {
      "cell_type": "markdown",
      "metadata": {
        "id": "gTd4MS9zKbWU"
      },
      "source": [
        "# Perceptron - Fonction ET entree binaire"
      ]
    },
    {
      "cell_type": "code",
      "execution_count": null,
      "metadata": {
        "colab": {
          "base_uri": "https://localhost:8080/"
        },
        "id": "8i4JKf1jKmQp",
        "outputId": "060387a1-9421-4085-9000-2ddf5645ada4"
      },
      "outputs": [
        {
          "output_type": "stream",
          "name": "stdout",
          "text": [
            "Weights: [6.59194921e-16 1.00000000e-01]\n",
            "Bias: -0.10000000000000052\n"
          ]
        }
      ],
      "source": [
        "import numpy as np\n",
        "\n",
        "X = np.array([[0,0],[0,1],[1,0],[1,1]])\n",
        "t = [0, 0, 0, 1]\n",
        "alpha = 0.001\n",
        "w = np.array([-0.7,0.2])\n",
        "b = 0.5\n",
        "y = [0 for i in range(len(t))]\n",
        "\n",
        "# Version Incremental\n",
        "while not all(y[i] == t[i] for i in range(len(t))):\n",
        "    for i in range(len(X)):\n",
        "        sample = X[i] \n",
        "        value = w @ sample + b\n",
        "        if value > 0:\n",
        "            y[i] = 1\n",
        "        else:\n",
        "            y[i] = 0\n",
        "        if y[i] != t[i]:\n",
        "            w += alpha * (t[i] - y[i]) * sample\n",
        "            b += alpha * (t[i] - y[i])\n",
        "\n",
        "print(\"Weights:\", w)\n",
        "print(\"Bias:\", b)\n"
      ]
    },
    {
      "cell_type": "code",
      "execution_count": null,
      "metadata": {
        "colab": {
          "base_uri": "https://localhost:8080/"
        },
        "id": "rvqn1sKbTLdP",
        "outputId": "bc7cb44d-e736-4583-cbaf-10bb44bf7850"
      },
      "outputs": [
        {
          "output_type": "stream",
          "name": "stdout",
          "text": [
            "Accuracy: 1.0\n"
          ]
        }
      ],
      "source": [
        "\n",
        "# test des prédictions\n",
        "def test(x):\n",
        "  y_pred = np.zeros(len(t))\n",
        "  for i in range(len(x)):\n",
        "      sample = x[i]\n",
        "      value = np.dot(w, sample) + b\n",
        "      y_pred[i] = 1 if value > 0 else 0\n",
        "\n",
        "  # Calcul de l'accuracy\n",
        "  accuracy = np.sum(y_pred == t) / len(t)\n",
        "  print(\"Accuracy:\", accuracy)\n",
        "\n",
        "test(X)"
      ]
    },
    {
      "cell_type": "code",
      "execution_count": null,
      "metadata": {
        "colab": {
          "base_uri": "https://localhost:8080/"
        },
        "id": "phBEpySHU7ZQ",
        "outputId": "46b564a0-209a-4179-c63c-bf71df46e206"
      },
      "outputs": [
        {
          "output_type": "stream",
          "name": "stdout",
          "text": [
            "Weights: [0.001 0.099]\n",
            "Bias: -0.10000000000000052\n"
          ]
        }
      ],
      "source": [
        "# Version batch\n",
        "\n",
        "import numpy as np\n",
        "\n",
        "X = np.array([[0,0],[0,1],[1,0],[1,1]])\n",
        "t = [0, 0, 0, 1]\n",
        "alpha = 0.001\n",
        "w = np.array([-0.7,0.2])\n",
        "b = 0.5\n",
        "y = [0 for i in range(len(t))]\n",
        "\n",
        "while not all(y[i] == t[i] for i in range(len(t))):\n",
        "    deltaW = [0, 0]\n",
        "    deltab = 0\n",
        "    for i in range(len(X)):\n",
        "        sample = X[i] \n",
        "        value = w @ sample + b\n",
        "        if value > 0:\n",
        "            y[i] = 1\n",
        "        else:\n",
        "            y[i] = 0\n",
        "        if y[i] != t[i]:\n",
        "            deltaW += alpha * (t[i] - y[i]) * sample\n",
        "            deltab += alpha * (t[i] - y[i])\n",
        "    w += deltaW\n",
        "    b += deltab\n",
        "\n",
        "print(\"Weights:\", w)\n",
        "print(\"Bias:\", b)\n"
      ]
    },
    {
      "cell_type": "markdown",
      "metadata": {
        "id": "ueu4uN28f4qq"
      },
      "source": [
        "# Fonction OU entrées binaires"
      ]
    },
    {
      "cell_type": "code",
      "execution_count": null,
      "metadata": {
        "colab": {
          "base_uri": "https://localhost:8080/"
        },
        "id": "dKbXbn2sgBdK",
        "outputId": "4a0f7eba-5fcd-4508-86f4-35cbb3fe7520"
      },
      "outputs": [
        {
          "output_type": "stream",
          "name": "stdout",
          "text": [
            "Weights: [6.59194921e-16 2.00000000e-01]\n",
            "Bias: -4.371503159461554e-16\n"
          ]
        }
      ],
      "source": [
        "import numpy as np\n",
        "\n",
        "X = np.array([[0,0],[0,1],[1,0],[1,1]])\n",
        "t = [0, 1, 1, 1]\n",
        "alpha = 0.001\n",
        "w = np.array([-0.7,0.2])\n",
        "b = 0.5\n",
        "y = [0 for i in range(len(t))]\n",
        "\n",
        "# Version Incremental\n",
        "while not all(y[i] == t[i] for i in range(len(t))):\n",
        "    for i in range(len(X)):\n",
        "        sample = X[i] \n",
        "        value = w @ sample + b\n",
        "        if value > 0:\n",
        "            y[i] = 1\n",
        "        else:\n",
        "            y[i] = 0\n",
        "        if y[i] != t[i]:\n",
        "            w += alpha * (t[i] - y[i]) * sample\n",
        "            b += alpha * (t[i] - y[i])\n",
        "\n",
        "print(\"Weights:\", w)\n",
        "print(\"Bias:\", b)\n"
      ]
    },
    {
      "cell_type": "code",
      "execution_count": null,
      "metadata": {
        "colab": {
          "base_uri": "https://localhost:8080/"
        },
        "id": "oajCS8mFgcGm",
        "outputId": "26f8ed66-ac51-40d4-cfed-d947bb1c4e2a"
      },
      "outputs": [
        {
          "output_type": "stream",
          "name": "stdout",
          "text": [
            "Accuracy: 1.0\n",
            "2.220446049250313e-16\n"
          ]
        }
      ],
      "source": [
        "# Calcul des prédictions\n",
        "test(X)\n",
        "print(np.dot(w, [1,0]) + b)"
      ]
    },
    {
      "cell_type": "code",
      "execution_count": null,
      "metadata": {
        "colab": {
          "base_uri": "https://localhost:8080/"
        },
        "id": "OsFbjH-lgzHK",
        "outputId": "61265fed-0ca7-40a7-a1d6-482788d10dc5"
      },
      "outputs": [
        {
          "output_type": "stream",
          "name": "stdout",
          "text": [
            "Weights: [0.01 0.2 ]\n",
            "Bias: -3.0878077872387166e-16\n"
          ]
        }
      ],
      "source": [
        "# Version batch\n",
        "\n",
        "import numpy as np\n",
        "\n",
        "X = np.array([[0,0],[0,1],[1,0],[1,1]])\n",
        "t = [0, 1, 1, 1]\n",
        "alpha = 0.01\n",
        "w = np.array([-0.5,0.2])\n",
        "b = 0.5\n",
        "y = [0 for i in range(len(t))]\n",
        "\n",
        "while not all(y[i] == t[i] for i in range(len(t))):\n",
        "    deltaW = [0, 0]\n",
        "    deltab = 0\n",
        "    for i in range(len(X)):\n",
        "        sample = X[i] \n",
        "        value = w @ sample + b\n",
        "        if value > 0:\n",
        "            y[i] = 1\n",
        "        else:\n",
        "            y[i] = 0\n",
        "        if y[i] != t[i]:\n",
        "            deltaW += alpha * (t[i] - y[i]) * sample\n",
        "            deltab += alpha * (t[i] - y[i])\n",
        "    w += deltaW\n",
        "    b += deltab\n",
        "\n",
        "print(\"Weights:\", w)\n",
        "print(\"Bias:\", b)\n"
      ]
    },
    {
      "cell_type": "code",
      "execution_count": null,
      "metadata": {
        "colab": {
          "base_uri": "https://localhost:8080/"
        },
        "id": "zauU7VwBhcbf",
        "outputId": "da560db8-4cb0-4b80-b707-9420187da220"
      },
      "outputs": [
        {
          "output_type": "stream",
          "name": "stdout",
          "text": [
            "Accuracy: 1.0\n",
            "0.1999999999999997\n"
          ]
        }
      ],
      "source": [
        "# Calcul des prédictions\n",
        "test(X)\n",
        "print(np.dot(w, [0,1]) + b)"
      ]
    },
    {
      "cell_type": "markdown",
      "metadata": {
        "id": "cOObuvPMibbp"
      },
      "source": [
        "# Perceptron sur un autre exemple"
      ]
    },
    {
      "cell_type": "code",
      "execution_count": null,
      "metadata": {
        "colab": {
          "base_uri": "https://localhost:8080/"
        },
        "id": "jqyTq2OnmZPO",
        "outputId": "d1cfdf9e-3ff6-4acb-d155-646596a450fc"
      },
      "outputs": [
        {
          "output_type": "stream",
          "name": "stdout",
          "text": [
            "Weights: [ 3.3 -1.8]\n",
            "Bias: 0.5\n"
          ]
        }
      ],
      "source": [
        "import numpy as np\n",
        "\n",
        "X = np.array([[2,1],[0,-1],[-2,1],[0,2]])\n",
        "t = [1, 1, -1, -1]\n",
        "alpha = 1\n",
        "w = np.array([-0.7,0.2])\n",
        "b = 0.5\n",
        "y = [0 for i in range(len(t))]\n",
        "\n",
        "def signe(a):\n",
        "  return -1 if a < 0 else 1\n",
        "\n",
        "# Version Incremental\n",
        "while not all(y[i] == t[i] for i in range(len(t))):\n",
        "   for i in range(len(X)):\n",
        "        sample = X[i] \n",
        "        value = w @ sample + b\n",
        "        y[i] = signe(value)\n",
        "        if y[i] != t[i]:\n",
        "            w += alpha * (t[i] - y[i]) * sample\n",
        "            b += alpha * (t[i] - y[i])\n",
        "\n",
        "print(\"Weights:\", w)\n",
        "print(\"Bias:\", b)\n"
      ]
    },
    {
      "cell_type": "code",
      "execution_count": null,
      "metadata": {
        "colab": {
          "base_uri": "https://localhost:8080/"
        },
        "id": "xIpOJeNbngok",
        "outputId": "b5c97ac8-287a-47c3-d73e-b6c93e2208d7"
      },
      "outputs": [
        {
          "output_type": "stream",
          "name": "stdout",
          "text": [
            "Weights: [ 7.3 -3.8]\n",
            "Bias: -1.5\n"
          ]
        }
      ],
      "source": [
        "# Version Batch\n",
        "X = np.array([[2,1],[0,-1],[-2,1],[0,2]])\n",
        "t = [1, 1, -1, -1]\n",
        "alpha = 1\n",
        "w = np.array([-0.7,0.2])\n",
        "b = 0.5\n",
        "y = [0 for i in range(len(t))]\n",
        "\n",
        "def signe(a):\n",
        "  return -1 if a < 0 else 1\n",
        "\n",
        "while not all(y[i] == t[i] for i in range(len(t))):\n",
        "    deltaW = [0, 0]\n",
        "    deltab = 0\n",
        "    for i in range(len(X)):\n",
        "        sample = X[i] \n",
        "        value = w @ sample + b\n",
        "        y[i] = signe(value)\n",
        "        if y[i] != t[i]:\n",
        "            deltaW += alpha * (t[i] - y[i]) * sample\n",
        "            deltab += alpha * (t[i] - y[i])\n",
        "    w += deltaW\n",
        "    b += deltab\n",
        "\n",
        "print(\"Weights:\", w)\n",
        "print(\"Bias:\", b)\n"
      ]
    },
    {
      "cell_type": "code",
      "execution_count": null,
      "metadata": {
        "colab": {
          "base_uri": "https://localhost:8080/"
        },
        "id": "y1DJBPy-s2_R",
        "outputId": "6432bf1e-e652-4361-fca3-9016c42925e2"
      },
      "outputs": [
        {
          "output_type": "stream",
          "name": "stdout",
          "text": [
            "1\n"
          ]
        }
      ],
      "source": [
        "print(signe(np.dot(w, [0,-1]) + b))"
      ]
    },
    {
      "cell_type": "markdown",
      "metadata": {
        "id": "-Ww2_G0jtV29"
      },
      "source": [
        "# Données LS Aléatoire"
      ]
    },
    {
      "cell_type": "code",
      "execution_count": null,
      "metadata": {
        "colab": {
          "base_uri": "https://localhost:8080/"
        },
        "id": "hBn72RHvtbKr",
        "outputId": "a0c83173-155a-414e-c89b-799c468b4f6d"
      },
      "outputs": [
        {
          "output_type": "stream",
          "name": "stdout",
          "text": [
            "(3,)\n",
            "[-1. -1. -1.  1. -1. -1.  1. -1.  1. -1. -1. -1.  1.  1. -1.  1. -1.  1.\n",
            " -1. -1.  1. -1.  1. -1.  1. -1. -1. -1. -1. -1.  1. -1.  1. -1. -1. -1.\n",
            " -1.  1. -1. -1. -1.  1.  1.  1.  1. -1.  1.  1. -1.  1. -1.  1. -1. -1.\n",
            "  1.  1.  1.  1.  1. -1. -1. -1.  1. -1. -1. -1.  1. -1.  1. -1.  1.  1.\n",
            " -1. -1. -1. -1. -1.  1. -1. -1. -1.  1. -1. -1.  1. -1.  1.  1.  1.  1.\n",
            " -1. -1. -1. -1. -1. -1. -1.  1. -1. -1.]\n"
          ]
        }
      ],
      "source": [
        "import numpy as np\n",
        "\n",
        "N = 2  # nombre de caractéristiques\n",
        "\n",
        "W_professeur = np.random.uniform(-2, 2, size=(N+1))\n",
        "print(W_professeur.shape)\n",
        "P = 100  # nombre d'exemples\n",
        "X = np.random.uniform(-2, 2, size=(P, N+1))  # génération de données aléatoires\n",
        "X[:, 0] = 1  # remplacer la première colonne par des 1s pour le biais\n",
        "t = np.sign(np.dot(X,W_professeur))\n",
        "print(np.sign(np.dot(X,W_professeur)))\n"
      ]
    },
    {
      "cell_type": "code",
      "execution_count": null,
      "metadata": {
        "colab": {
          "base_uri": "https://localhost:8080/",
          "height": 313
        },
        "id": "tid-Vp-lyCrL",
        "outputId": "34a4e3ee-df0b-4cad-914a-7f76c909baa6"
      },
      "outputs": [
        {
          "output_type": "display_data",
          "data": {
            "text/plain": [
              "<Figure size 432x288 with 1 Axes>"
            ],
            "image/png": "[encoded data removed]"
          },
          "metadata": {
            "needs_background": "light"
          }
        },
        {
          "output_type": "stream",
          "name": "stdout",
          "text": [
            "[-1.11818731  0.45290302 -1.36866083]\n"
          ]
        }
      ],
      "source": [
        "import matplotlib.pyplot as plt \n",
        "\n",
        "# Tracer l'ensemble de données\n",
        "fig, ax = plt.subplots()\n",
        "ax.scatter(X[:, 1], X[:, 2], c=t)\n",
        "ax.set_xlabel('X1')\n",
        "ax.set_ylabel('X2')\n",
        "ax.set_title('Ensemble de données')\n",
        "\n",
        "plt.show()\n",
        "print(W_professeur)"
      ]
    },
    {
      "cell_type": "markdown",
      "metadata": {
        "id": "qAyXMixny5fI"
      },
      "source": [
        "# Apprentissage du perceptron élève"
      ]
    },
    {
      "cell_type": "code",
      "execution_count": null,
      "metadata": {
        "colab": {
          "base_uri": "https://localhost:8080/"
        },
        "id": "R7GKSVgKzL0L",
        "outputId": "d3363288-7ef2-48dc-b335-b486a7936170"
      },
      "outputs": [
        {
          "output_type": "stream",
          "name": "stdout",
          "text": [
            "Weights: [-0.99057638  0.27973385 -1.55369931]\n",
            "itterations: 8\n"
          ]
        }
      ],
      "source": [
        "# Version batch\n",
        "def signe(a):\n",
        "  return -1 if a < 0 else 1\n",
        "  \n",
        "alpha = 0.01\n",
        "w_eleve = np.random.uniform(-2, 2, size=(N+1))\n",
        "\n",
        "y = [0 for i in range(len(t))]\n",
        "\n",
        "\n",
        "\n",
        "iter = 0\n",
        "while not all(y[i] == t[i] for i in range(len(t))):\n",
        "    iter = iter + 1\n",
        "    deltaW = [0 for i in range(N+1)]\n",
        "    deltab = 0\n",
        "    for i in range(len(X)):\n",
        "        sample = X[i] \n",
        "        value = w_eleve @ sample\n",
        "        y[i] = signe(value)\n",
        "        if y[i] != t[i]:\n",
        "            deltaW += alpha * (t[i] - y[i]) * sample\n",
        "            \n",
        "    w_eleve += deltaW\n",
        "\n",
        "\n",
        "print(\"Weights:\", w_eleve)\n",
        "print(\"itterations:\", iter)"
      ]
    },
    {
      "cell_type": "code",
      "source": [
        "# Calcul du recouvrement\n",
        "norm_w_prof = np.linalg.norm(W_professeur)\n",
        "norm_w_eleve = np.linalg.norm(w_eleve)\n",
        "\n",
        "recouvrement = np.cos(np.dot(W_professeur, w_eleve) / norm_w_prof * norm_w_eleve)\n",
        "print(recouvrement)"
      ],
      "metadata": {
        "colab": {
          "base_uri": "https://localhost:8080/"
        },
        "id": "N3FOPbylnNul",
        "outputId": "71656d3e-b46d-4a8c-ab26-3909f26ecc91"
      },
      "execution_count": null,
      "outputs": [
        {
          "output_type": "stream",
          "name": "stdout",
          "text": [
            "-0.9578004419674732\n"
          ]
        }
      ]
    },
    {
      "cell_type": "code",
      "execution_count": null,
      "metadata": {
        "id": "MZQTP7DH2mgR",
        "colab": {
          "base_uri": "https://localhost:8080/"
        },
        "outputId": "6b5eb840-dd2a-4769-d58c-4453def85966"
      },
      "outputs": [
        {
          "output_type": "stream",
          "name": "stdout",
          "text": [
            "Weights: [-1.48847822  0.63807307 -1.84922817]\n",
            "itterations: 8\n"
          ]
        }
      ],
      "source": [
        "# Version Incremental\n",
        "w_eleve = np.random.uniform(-2, 2, size=(N+1))\n",
        "\n",
        "y = [0 for i in range(len(t))]\n",
        "iter = 0\n",
        "while not all(y[i] == t[i] for i in range(len(t))):\n",
        "  iter = iter + 1\n",
        "  for i in range(len(X)):\n",
        "    sample = X[i] \n",
        "    value = w_eleve @ sample\n",
        "    y[i] = signe(value)\n",
        "    if y[i] != t[i]:\n",
        "      w_eleve += alpha * (t[i] - y[i]) * sample\n",
        "\n",
        "print(\"Weights:\", w_eleve)\n",
        "print(\"itterations:\", iter)"
      ]
    },
    {
      "cell_type": "code",
      "execution_count": null,
      "metadata": {
        "colab": {
          "base_uri": "https://localhost:8080/"
        },
        "id": "A1Gf7AH2uxdY",
        "outputId": "05012450-0eff-412e-945a-3b80388a27cf"
      },
      "outputs": [
        {
          "output_type": "stream",
          "name": "stdout",
          "text": [
            "0.971003981496377\n"
          ]
        }
      ],
      "source": [
        "norm_w_prof = np.sqrt(np.sum(W_professeur ** 2))\n",
        "norm_w_eleve = np.sqrt(np.sum(w_eleve ** 2))\n",
        "\n",
        "recouvrement = np.cos(np.dot(W_professeur, w_eleve) / norm_w_prof * norm_w_eleve)\n",
        "print(recouvrement)"
      ]
    },
    {
      "cell_type": "markdown",
      "metadata": {
        "id": "SZCofn7qmaN1"
      },
      "source": [
        "# Tests. Lancement du programme avec plusieurs valeurs"
      ]
    },
    {
      "cell_type": "code",
      "execution_count": null,
      "metadata": {
        "colab": {
          "base_uri": "https://localhost:8080/"
        },
        "id": "aIRoee6FmiP_",
        "outputId": "74047c96-e5c9-4708-cfad-93ed474f697a"
      },
      "outputs": [
        {
          "output_type": "stream",
          "name": "stdout",
          "text": [
            "(2,10), <IT> = 23.42, <R> = 0.6595800897943522, <T> = 0.0012692356109619142 s\n",
            "(2,100), <IT> = 23.0, <R> = 0.5457530480379384, <T> = 0.008360347747802734 s\n",
            "(2,500), <IT> = 153.78, <R> = 0.5419595176376277, <T> = 0.28799948215484616 s\n",
            "(2,1000), <IT> = 63.4, <R> = 0.54115508140027, <T> = 0.23663219451904297 s\n",
            "(10,10), <IT> = 24.18, <R> = 0.9083561835294076, <T> = 0.0012583398818969726 s\n",
            "(10,100), <IT> = 16.38, <R> = 0.5607535495615633, <T> = 0.006405687332153321 s\n",
            "(10,500), <IT> = 50.3, <R> = 0.5408179853932993, <T> = 0.08358352661132812 s\n",
            "(10,1000), <IT> = 100.28, <R> = 0.5404200067363043, <T> = 0.41354840755462646 s\n",
            "(100,10), <IT> = 9.3, <R> = 0.9959012722250918, <T> = 0.0005852985382080078 s\n",
            "(100,100), <IT> = 15.88, <R> = 0.9228700104400882, <T> = 0.011759610176086425 s\n",
            "(100,500), <IT> = 20.1, <R> = 0.5918548964408291, <T> = 0.06391751766204834 s\n",
            "(100,1000), <IT> = 41.8, <R> = 0.550470108586158, <T> = 0.2139971399307251 s\n",
            "(500,10), <IT> = 4.84, <R> = 0.9992975614022168, <T> = 0.0006560659408569335 s\n",
            "(500,100), <IT> = 7.94, <R> = 0.9946806206375001, <T> = 0.006810121536254883 s\n",
            "(500,500), <IT> = 13.96, <R> = 0.9019618599347224, <T> = 0.04935847759246826 s\n",
            "(500,1000), <IT> = 19.06, <R> = 0.7400559463040508, <T> = 0.1435403633117676 s\n",
            "(1000,10), <IT> = 4.02, <R> = 0.9995724124008083, <T> = 0.0012898874282836915 s\n",
            "(1000,100), <IT> = 6.54, <R> = 0.9984948056933888, <T> = 0.007207560539245606 s\n",
            "(1000,500), <IT> = 11.02, <R> = 0.9676826296668513, <T> = 0.04493785858154297 s\n",
            "(1000,1000), <IT> = 15.08, <R> = 0.8807250480051547, <T> = 0.12935424327850342 s\n",
            "(5000,10), <IT> = 2.68, <R> = 0.999891917443889, <T> = 0.0033335971832275393 s\n",
            "(5000,100), <IT> = 4.04, <R> = 0.9998152073245131, <T> = 0.00935495376586914 s\n",
            "(5000,500), <IT> = 6.72, <R> = 0.9972358515704548, <T> = 0.04633325099945068 s\n",
            "(5000,1000), <IT> = 8.94, <R> = 0.9885799893223264, <T> = 0.13243631839752198 s\n",
            "[(9.3, 0.9959012722250918), (15.88, 0.9228700104400882), (20.1, 0.5918548964408291), (41.8, 0.550470108586158)]\n",
            "[(23.0, 0.5457530480379384), (16.38, 0.5607535495615633), (15.88, 0.9228700104400882), (7.94, 0.9946806206375001), (6.54, 0.9984948056933888), (4.04, 0.9998152073245131)]\n"
          ]
        }
      ],
      "source": [
        "# Test version batch \n",
        "import numpy as np\n",
        "import time\n",
        "\n",
        "def signe(a):\n",
        "  return -1 if a < 0 else 1\n",
        "\n",
        "N = [2,10,100,500,1000,5000]\n",
        "P = [10,100,500,1000]\n",
        "\n",
        "list_iter_p100 = []\n",
        "list_iter_n100 = []\n",
        "for n in N:\n",
        "  for p in P:\n",
        "\n",
        "    list_recouvrement = []\n",
        "    list_nbre_iter = []\n",
        "    list_temps_execution = []\n",
        "    for k in range(50):\n",
        "      W_professeur = np.random.uniform(-2, 2, size=(n+1))\n",
        "      X = np.random.uniform(-2, 2, size=(p, n+1))  \n",
        "      X[:, 0] = 1  # remplacer la première colonne par des 1s pour le biais\n",
        "\n",
        "      t = np.sign(np.dot(X,W_professeur))\n",
        "      alpha = 0.01\n",
        "      w_eleve = np.random.uniform(-2, 2, size=(n+1))\n",
        "\n",
        "      y = [0 for i in range(len(t))]\n",
        "\n",
        "      nbre_iter = 0\n",
        "      t0 = time.time()\n",
        "      while not all(y[i] == t[i] for i in range(len(t))):\n",
        "          \n",
        "          deltaW = [0 for i in range(n+1)]\n",
        "          deltab = 0\n",
        "          for i in range(len(X)):\n",
        "              sample = X[i] \n",
        "              value = w_eleve @ sample\n",
        "              y[i] = signe(value)\n",
        "              if y[i] != t[i]:\n",
        "                  deltaW += alpha * (t[i] - y[i]) * sample\n",
        "                  \n",
        "          w_eleve += deltaW\n",
        "          nbre_iter = nbre_iter + 1\n",
        "      t1 = time.time()\n",
        "\n",
        "      norm_w_prof = np.sqrt(np.sum(W_professeur ** 2))\n",
        "      norm_w_eleve = np.sqrt(np.sum(w_eleve ** 2))\n",
        "\n",
        "      recouvrement_b = np.cos(np.dot(W_professeur, w_eleve) / (norm_w_prof * norm_w_eleve))\n",
        "      list_nbre_iter.append(nbre_iter)\n",
        "      list_recouvrement.append(recouvrement_b)\n",
        "      list_temps_execution.append(t1-t0)\n",
        "    moyenne_list_recouvrement = np.sum(list_recouvrement) / len(list_recouvrement)\n",
        "    moyenne_iter = np.sum(list_nbre_iter) / len(list_nbre_iter)\n",
        "\n",
        "    # Temps moyen d'éxecution\n",
        "    moyenne_temps_exec = np.sum(list_temps_execution) / len(list_temps_execution)\n",
        "\n",
        "    print(f\"({n},{p}), <IT> = {moyenne_iter}, <R> = {moyenne_list_recouvrement}, <T> = {moyenne_temps_exec} s\")\n",
        "    # enregistrement des informations sur la variation de IT et R quand P augmente dans le cas n = 100\n",
        "    if n == 100:\n",
        "      list_iter_p100.append((moyenne_iter, moyenne_list_recouvrement))\n",
        "    # enregistrement des informations sur la variation de IT et R quand N augmente dans le cas p = 100\n",
        "    if p == 100:\n",
        "      list_iter_n100.append((moyenne_iter, moyenne_list_recouvrement))\n",
        "\n",
        "\n",
        "print(list_iter_p100)                                              \n",
        "print(list_iter_n100)                                              \n",
        "                                         "
      ]
    },
    {
      "cell_type": "code",
      "source": [
        "import matplotlib.pyplot as plt\n",
        "\n",
        "x = [10, 100, 500, 1000]\n",
        "y = [9.2, 15.6, 20.36, 41.64]\n",
        "\n",
        "plt.plot(x, y, label='y')\n",
        "\n",
        "plt.xlabel('Valeurs de P')\n",
        "plt.ylabel(' itérations ')\n",
        "plt.title('Variation du nombre itération par rapport a P ( données )')\n",
        "plt.legend()\n",
        "plt.show()\n"
      ],
      "metadata": {
        "colab": {
          "base_uri": "https://localhost:8080/",
          "height": 295
        },
        "id": "sZ7AEJnRwOjL",
        "outputId": "f53c8ce4-cd0a-4e44-8081-f3158a1e8e99"
      },
      "execution_count": null,
      "outputs": [
        {
          "output_type": "display_data",
          "data": {
            "text/plain": [
              "<Figure size 432x288 with 1 Axes>"
            ],
            "image/png": "[encoded data removed]"
          },
          "metadata": {
            "needs_background": "light"
          }
        }
      ]
    },
    {
      "cell_type": "code",
      "source": [
        "import matplotlib.pyplot as plt\n",
        "\n",
        "x = [10, 100, 500, 1000]\n",
        "z = [0.9959012722250918,0.9228700104400882,0.5918548964408291, 0.550470108586158]\n",
        "\n",
        "plt.plot(x, z, label='z')\n",
        "\n",
        "plt.xlabel('Valeurs de P')\n",
        "plt.ylabel('Valeur du recouvrement')\n",
        "plt.title('Variation du recouvrement par rapport a P ( données )')\n",
        "plt.legend()\n",
        "plt.show()\n"
      ],
      "metadata": {
        "colab": {
          "base_uri": "https://localhost:8080/",
          "height": 295
        },
        "id": "yxciE_oYitax",
        "outputId": "4de3e6ee-b9b2-4ad0-83d9-9d3e8ca988e7"
      },
      "execution_count": null,
      "outputs": [
        {
          "output_type": "display_data",
          "data": {
            "text/plain": [
              "<Figure size 432x288 with 1 Axes>"
            ],
            "image/png": "[encoded data removed]"
          },
          "metadata": {
            "needs_background": "light"
          }
        }
      ]
    },
    {
      "cell_type": "code",
      "source": [
        "import matplotlib.pyplot as plt\n",
        "\n",
        "\n",
        "N = [2,10,100,500,1000,5000]\n",
        "\n",
        "y = [23, 16.38, 15.88, 7.94,6.54, 4.04 ]\n",
        "plt.plot(N, y, label='y')\n",
        "\n",
        "plt.xlabel('Valeurs de N')\n",
        "plt.ylabel(' itérations ')\n",
        "plt.title('Variation du nombre itération par rapport a N ( dimension )')\n",
        "plt.legend()\n",
        "plt.show()\n"
      ],
      "metadata": {
        "colab": {
          "base_uri": "https://localhost:8080/",
          "height": 295
        },
        "id": "JA5ZaO06Ul3J",
        "outputId": "a7fa670c-9eaf-4d5c-9772-69758558ae3f"
      },
      "execution_count": null,
      "outputs": [
        {
          "output_type": "display_data",
          "data": {
            "text/plain": [
              "<Figure size 432x288 with 1 Axes>"
            ],
            "image/png": "[encoded data removed]"
          },
          "metadata": {
            "needs_background": "light"
          }
        }
      ]
    },
    {
      "cell_type": "code",
      "source": [
        "import matplotlib.pyplot as plt\n",
        "\n",
        "\n",
        "N = [2,10,100,500,1000,5000]\n",
        "\n",
        "y = [0.5457530480379384, 0.5607535495615633,0.9228700104400882,0.9946806206375001,0.9984948056933888,0.9998152073245131 ]\n",
        "\n",
        "plt.plot(N, y, label='y')\n",
        "\n",
        "plt.xlabel('Valeurs de N')\n",
        "plt.ylabel(' itérations ')\n",
        "plt.title('Variation du recouvrement par rapport a N ( dimension )')\n",
        "plt.legend()\n",
        "plt.show()\n"
      ],
      "metadata": {
        "colab": {
          "base_uri": "https://localhost:8080/",
          "height": 295
        },
        "id": "ZqMwUVY5uFRn",
        "outputId": "8f37812f-73c3-41d7-a451-d9c3c16ef71b"
      },
      "execution_count": null,
      "outputs": [
        {
          "output_type": "display_data",
          "data": {
            "text/plain": [
              "<Figure size 432x288 with 1 Axes>"
            ],
            "image/png": "[encoded data removed]"
          },
          "metadata": {
            "needs_background": "light"
          }
        }
      ]
    },
    {
      "cell_type": "code",
      "execution_count": null,
      "metadata": {
        "colab": {
          "base_uri": "https://localhost:8080/"
        },
        "id": "PLNfWfLy1EWR",
        "outputId": "cae12de1-27b5-427f-b1d9-3850395535f9"
      },
      "outputs": [
        {
          "output_type": "stream",
          "name": "stdout",
          "text": [
            "(2,10), <IT> = 23.2, <R> = 0.6484897919551361, <T> = 0.0011440801620483398 s\n",
            "(2,100), <IT> = 49.88, <R> = 0.5428003942312709, <T> = 0.017698302268981933 s\n",
            "(2,500), <IT> = 67.0, <R> = 0.5427311235425087, <T> = 0.13934363842010497 s\n",
            "(2,1000), <IT> = 70.72, <R> = 0.5403348486847723, <T> = 0.2534219884872437 s\n",
            "(10,10), <IT> = 23.58, <R> = 0.9299323540386178, <T> = 0.001101083755493164 s\n",
            "(10,100), <IT> = 13.94, <R> = 0.5625721854341126, <T> = 0.005575065612792969 s\n",
            "(10,500), <IT> = 129.82, <R> = 0.540881541018294, <T> = 0.23701748371124268 s\n",
            "(10,1000), <IT> = 467.42, <R> = 0.5404452818635268, <T> = 1.7433699369430542 s\n",
            "(100,10), <IT> = 9.06, <R> = 0.9939772222767739, <T> = 0.0007453727722167969 s\n",
            "(100,100), <IT> = 14.46, <R> = 0.9326426909023805, <T> = 0.010371484756469727 s\n",
            "(100,500), <IT> = 16.32, <R> = 0.5956549861643513, <T> = 0.05156062602996826 s\n",
            "(100,1000), <IT> = 68.42, <R> = 0.550477680949316, <T> = 0.30200684547424317 s\n",
            "(500,10), <IT> = 4.52, <R> = 0.9994532607283491, <T> = 0.00022967815399169923 s\n",
            "(500,100), <IT> = 7.48, <R> = 0.9954335173071925, <T> = 0.005794568061828613 s\n",
            "(500,500), <IT> = 11.68, <R> = 0.9035054634960066, <T> = 0.040412063598632815 s\n",
            "(500,1000), <IT> = 15.2, <R> = 0.7426657746375027, <T> = 0.12035920619964599 s\n",
            "(1000,10), <IT> = 3.74, <R> = 0.9993901035266767, <T> = 0.00033519744873046877 s\n",
            "(1000,100), <IT> = 5.92, <R> = 0.9979538033465629, <T> = 0.004613857269287109 s\n",
            "(1000,500), <IT> = 8.82, <R> = 0.9665568212175115, <T> = 0.03374208450317383 s\n",
            "(1000,1000), <IT> = 12.84, <R> = 0.8897773283641663, <T> = 0.0974280834197998 s\n",
            "(5000,10), <IT> = 2.62, <R> = 0.9999056331886326, <T> = 0.00032534599304199217 s\n",
            "(5000,100), <IT> = 3.78, <R> = 0.9998608314616719, <T> = 0.006904230117797851 s\n",
            "(5000,500), <IT> = 5.1, <R> = 0.997460165752964, <T> = 0.031013641357421875 s\n",
            "(5000,1000), <IT> = 7.02, <R> = 0.9900084835626259, <T> = 0.08883481025695801 s\n",
            "[(9.06, 0.9939772222767739), (14.46, 0.9326426909023805), (16.32, 0.5956549861643513), (68.42, 0.550477680949316)]\n",
            "[(49.88, 0.5428003942312709), (13.94, 0.5625721854341126), (14.46, 0.9326426909023805), (7.48, 0.9954335173071925), (5.92, 0.9979538033465629), (3.78, 0.9998608314616719)]\n"
          ]
        }
      ],
      "source": [
        "\n",
        "# Test Version Online\n",
        "\n",
        "import numpy as np\n",
        "import time\n",
        "\n",
        "def signe(a):\n",
        "  return -1 if a < 0 else 1\n",
        "\n",
        "N = [2,10,100,500,1000,5000]\n",
        "P = [10,100,500,1000]\n",
        "\n",
        "list_iter = []\n",
        "list_iter_p100 = []\n",
        "list_iter_n100 = []\n",
        "\n",
        "for n in N:\n",
        "  for p in P:\n",
        "    list_recouvrement = []\n",
        "    list_nbre_iter = []\n",
        "    list_temps_execution = []\n",
        "    for k in range(50):\n",
        "      W_professeur = np.random.uniform(-2, 2, size=(n+1))\n",
        "      X = np.random.uniform(-2, 2, size=(p, n+1))  \n",
        "      X[:, 0] = 1  # remplacer la première colonne par des 1s pour le biais\n",
        "\n",
        "      t = np.sign(np.dot(X,W_professeur))\n",
        "      alpha = 0.01\n",
        "      w_eleve = np.random.uniform(-2, 2, size=(n+1))\n",
        "\n",
        "      y = [0 for i in range(len(t))]\n",
        "\n",
        "      nbre_iter = 0\n",
        "      t0 = time.time()\n",
        "      while not all(y[i] == t[i] for i in range(len(t))):\n",
        "          for i in range(len(X)):\n",
        "              sample = X[i] \n",
        "              value = w_eleve @ sample\n",
        "              y[i] = signe(value)\n",
        "              if y[i] != t[i]:\n",
        "                  w_eleve += alpha * (t[i] - y[i]) * sample\n",
        "          nbre_iter = nbre_iter + 1\n",
        "      t1 = time.time()\n",
        "\n",
        "      norm_w_prof = np.sqrt(np.sum(W_professeur ** 2))\n",
        "      norm_w_eleve = np.sqrt(np.sum(w_eleve ** 2))\n",
        "\n",
        "      recouvrement_b = np.cos(np.dot(W_professeur, w_eleve) / (norm_w_prof * norm_w_eleve))\n",
        "      list_nbre_iter.append(nbre_iter)\n",
        "      list_recouvrement.append(recouvrement_b)\n",
        "      list_temps_execution.append(t1-t0)\n",
        "    moyenne_list_recouvrement = np.sum(list_recouvrement) / len(list_recouvrement)\n",
        "    moyenne_iter = np.sum(list_nbre_iter) / len(list_nbre_iter)\n",
        "    moyenne_temps_exec = np.sum(list_temps_execution) / len(list_temps_execution)\n",
        "    print(f\"({n},{p}), <IT> = {moyenne_iter}, <R> = {moyenne_list_recouvrement}, <T> = {moyenne_temps_exec} s\")\n",
        "    # enregistrement des informations sur la variation de IT et R quand P augmente dans le cas n = 100\n",
        "    if n == 100:\n",
        "      list_iter_p100.append((moyenne_iter, moyenne_list_recouvrement))\n",
        "    # enregistrement des informations sur la variation de IT et R quand P augmente dans le cas n = 100\n",
        "    if p == 100:\n",
        "      list_iter_n100.append((moyenne_iter, moyenne_list_recouvrement))\n",
        "\n",
        "print(list_iter_p100)                                              \n",
        "print(list_iter_n100)                                              \n",
        "                                                                          "
      ]
    },
    {
      "cell_type": "code",
      "source": [],
      "metadata": {
        "id": "3DY5bfcJoP_C"
      },
      "execution_count": null,
      "outputs": []
    }
  ],
  "metadata": {
    "colab": {
      "collapsed_sections": [
        "gTd4MS9zKbWU"
      ],
      "provenance": []
    },
    "kernelspec": {
      "display_name": "Python 3",
      "name": "python3"
    },
    "language_info": {
      "name": "python"
    }
  },
  "nbformat": 4,
  "nbformat_minor": 0
}